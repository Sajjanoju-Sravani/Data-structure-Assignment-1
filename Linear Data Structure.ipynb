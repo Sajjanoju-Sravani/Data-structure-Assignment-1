{
 "cells": [
  {
   "cell_type": "code",
   "execution_count": 9,
   "id": "e117d8a1",
   "metadata": {},
   "outputs": [
    {
     "name": "stdout",
     "output_type": "stream",
     "text": [
      "(3, 2)\n",
      "(10, -5)\n",
      "(4, 1)\n"
     ]
    }
   ],
   "source": [
    "# Write a program to find all pairs of an integer array whose sum is equal to a given number\n",
    "\n",
    "def printPairs(array, n, sum):\n",
    "    for i in range(0,n):\n",
    "        for j in range(i+1,n):\n",
    "            if(array[i] + array[j] == sum):\n",
    "                print(\"(\", array[i], \", \", array[j],\")\", sep=\"\")\n",
    "\n",
    "array = [3,2,10,4,-5,1]\n",
    "n = len(arr)\n",
    "sum = 5\n",
    "printPairs(arr, n, sum)"
   ]
  },
  {
   "cell_type": "code",
   "execution_count": 11,
   "id": "5fcf632e",
   "metadata": {},
   "outputs": [
    {
     "name": "stdout",
     "output_type": "stream",
     "text": [
      "[1, 2, 3, 4, 5, 6]\n",
      "Reversed list is:\n",
      "[6, 5, 4, 3, 2, 1]\n"
     ]
    }
   ],
   "source": [
    "# Write a program to reverse an array in place? In place means you cannot create a new array. You have to update the original array\n",
    "\n",
    "def reverseList(A, start, end):\n",
    "    while start < end:\n",
    "        A[start], A[end] = A[end], A[start]\n",
    "        start += 1\n",
    "        end -= 1\n",
    "  \n",
    "A = [1, 2, 3, 4, 5, 6]\n",
    "print(A)\n",
    "reverseList(A, 0, 5)\n",
    "print(\"Reversed list is:\")\n",
    "print(A)"
   ]
  },
  {
   "cell_type": "code",
   "execution_count": 12,
   "id": "30650081",
   "metadata": {},
   "outputs": [
    {
     "name": "stdout",
     "output_type": "stream",
     "text": [
      "Strings are rotations of each other\n"
     ]
    }
   ],
   "source": [
    "# Write a program to check if two strings are a rotation of each other\n",
    "\n",
    "def areRotations(string1, string2):\n",
    "    size1 = len(string1)\n",
    "    size2 = len(string2)\n",
    "    temp = ''\n",
    "    if size1 != size2:\n",
    "        return 0\n",
    "    temp = string1 + string1\n",
    " \n",
    "    if (temp.count(string2) > 0):\n",
    "        return 1\n",
    "    else:\n",
    "        return 0\n",
    " \n",
    "if __name__ == \"__main__\":\n",
    "    string1 = \"AACD\"\n",
    "    string2 = \"ACDA\"\n",
    " \n",
    "    if areRotations(string1, string2):\n",
    "        print(\"Strings are rotations of each other\")\n",
    "    else:\n",
    "        print(\"Strings are not rotations of each other\")"
   ]
  },
  {
   "cell_type": "code",
   "execution_count": 28,
   "id": "8b8ac326",
   "metadata": {},
   "outputs": [
    {
     "name": "stdout",
     "output_type": "stream",
     "text": [
      "First non-repeating character is h\n"
     ]
    }
   ],
   "source": [
    "# Write a program to print the first non-repeated character from a string\n",
    "\n",
    "def FirstNonRepeat(s):\n",
    "    for i in s:\n",
    "        if (s.find(i, (s.find(i)+1))) == -1:\n",
    "            print(\"First non-repeating character is\", i)\n",
    "            break\n",
    "    return\n",
    " \n",
    "s = 'helloworld' \n",
    "FirstNonRepeat(s)"
   ]
  },
  {
   "cell_type": "code",
   "execution_count": 14,
   "id": "8969662b",
   "metadata": {},
   "outputs": [
    {
     "name": "stdout",
     "output_type": "stream",
     "text": [
      "Move disk 1 from rod A to rod C\n",
      "Move disk 2 from rod A to rod B\n",
      "Move disk 1 from rod C to rod B\n",
      "Move disk 3 from rod A to rod C\n",
      "Move disk 1 from rod B to rod A\n",
      "Move disk 2 from rod B to rod C\n",
      "Move disk 1 from rod A to rod C\n"
     ]
    }
   ],
   "source": [
    "# Read about the Tower of Hanoi algorithm. Write a program to implement it\n",
    "\n",
    "def TowerOfHanoi(n, from_rod, to_rod, aux_rod):\n",
    "    if n == 0:\n",
    "        return\n",
    "    TowerOfHanoi(n-1, from_rod, aux_rod, to_rod)\n",
    "    print(\"Move disk\", n, \"from rod\", from_rod, \"to rod\", to_rod)\n",
    "    TowerOfHanoi(n-1, aux_rod, to_rod, from_rod)\n",
    "  \n",
    "N = 3\n",
    "TowerOfHanoi(N, 'A', 'C', 'B')"
   ]
  },
  {
   "cell_type": "code",
   "execution_count": 29,
   "id": "7b51f8ed",
   "metadata": {},
   "outputs": [
    {
     "name": "stdout",
     "output_type": "stream",
     "text": [
      "Prefix :  +AB-CD\n"
     ]
    }
   ],
   "source": [
    "# Read about infix, prefix, and postfix expressions. Write a program to convert postfix to prefix expression\n",
    "\n",
    "def isOperator(x):\n",
    "    if x == \"+\":\n",
    "        return True\n",
    "    if x == \"-\":\n",
    "        return True\n",
    "    if x == \"/\":\n",
    "        return True\n",
    "    if x == \"*\":\n",
    "        return True\n",
    "\n",
    "    return False\n",
    "\n",
    "def postToPre(post_exp):\n",
    "    s = []\n",
    "    length = len(post_exp)\n",
    "\n",
    "    for i in range(length):\n",
    "        if (isOperator(post_exp[i])):\n",
    "            op1 = s[-1]\n",
    "            s.pop()\n",
    "            op2 = s[-1]\n",
    "            s.pop()\n",
    "            temp = post_exp[i] + op2 + op1\n",
    "            s.append(temp)\n",
    "        else:\n",
    "            s.append(post_exp[i])\n",
    "\n",
    "    ans = \"\"\n",
    "    for i in s:\n",
    "        ans += i\n",
    "    return ans\n",
    "\n",
    "if __name__ == \"__main__\":\n",
    "    post_exp = \"AB+CD-\"\n",
    "    print(\"Prefix : \", postToPre(post_exp))"
   ]
  },
  {
   "cell_type": "code",
   "execution_count": 21,
   "id": "46de1db9",
   "metadata": {},
   "outputs": [
    {
     "name": "stdout",
     "output_type": "stream",
     "text": [
      "((A-(B/C))*((A/H)-T))\n"
     ]
    }
   ],
   "source": [
    "# Write a program to convert prefix expression to infix expression\n",
    "\n",
    "def prefixToInfix(prefix):\n",
    "    stack = []\n",
    "    i = len(prefix) - 1\n",
    "    \n",
    "    while i >= 0:\n",
    "        if not isOperator(prefix[i]):\n",
    "            stack.append(prefix[i])\n",
    "            i -= 1\n",
    "        else:\n",
    "            str = \"(\" + stack.pop() + prefix[i] + stack.pop() + \")\"\n",
    "            stack.append(str)\n",
    "            i -= 1\n",
    "     \n",
    "    return stack.pop()\n",
    " \n",
    "def isOperator(c):\n",
    "    if c == \"*\" or c == \"+\" or c == \"-\" or c == \"/\" or c == \"^\" or c == \"(\" or c == \")\":\n",
    "        return True\n",
    "    else:\n",
    "        return False\n",
    "\n",
    "if __name__==\"__main__\":\n",
    "    str = \"*-A/BC-/AHT\"\n",
    "    print(prefixToInfix(str))"
   ]
  },
  {
   "cell_type": "code",
   "execution_count": 23,
   "id": "02d79838",
   "metadata": {},
   "outputs": [
    {
     "name": "stdout",
     "output_type": "stream",
     "text": [
      "Balanced\n"
     ]
    }
   ],
   "source": [
    "# Write a program to check if all the brackets are closed in a given code snippet.\n",
    "\n",
    "def areBracketsBalanced(expr):\n",
    "    stack = []\n",
    " \n",
    "    for char in expr:\n",
    "        if char in [\"(\", \"{\", \"[\"]:\n",
    "            stack.append(char)\n",
    "        else:\n",
    "            if not stack:\n",
    "                return False\n",
    "            current_char = stack.pop()\n",
    "            if current_char == '(':\n",
    "                if char != \")\":\n",
    "                    return False\n",
    "            if current_char == '{':\n",
    "                if char != \"}\":\n",
    "                    return False\n",
    "            if current_char == '[':\n",
    "                if char != \"]\":\n",
    "                    return False\n",
    "    if stack:\n",
    "        return False\n",
    "    return True\n",
    "\n",
    "if __name__ == \"__main__\":\n",
    "    expr = \"{[()]}()\"\n",
    " \n",
    "    if areBracketsBalanced(expr):\n",
    "        print(\"Balanced\")\n",
    "    else:\n",
    "        print(\"Not Balanced\")"
   ]
  },
  {
   "cell_type": "code",
   "execution_count": 30,
   "id": "e2f3fa91",
   "metadata": {},
   "outputs": [
    {
     "name": "stdout",
     "output_type": "stream",
     "text": [
      "Original Stack\n",
      "5\n",
      "4\n",
      "3\n",
      "2\n",
      "1\n",
      "\n",
      "Stack after Reversing\n",
      "1\n",
      "2\n",
      "3\n",
      "4\n",
      "5\n"
     ]
    }
   ],
   "source": [
    "# Write a program to reverse a stack\n",
    "\n",
    "class Stack:\n",
    "\n",
    "    def __init__(self):\n",
    "        self.Elements = []\n",
    "\n",
    "    def push(self, value):\n",
    "        self.Elements.append(value)\n",
    "        \n",
    "    def pop(self):\n",
    "        return self.Elements.pop()\n",
    "    \n",
    "    def empty(self):\n",
    "        return self.Elements == []\n",
    "\n",
    "    def show(self):\n",
    "        for value in reversed(self.Elements):\n",
    "            print(value)\n",
    "\n",
    "def BottomInsert(s, value):\n",
    "    if s.empty():\n",
    "        s.push(value)\n",
    "\n",
    "    else:\n",
    "        popped = s.pop()\n",
    "        BottomInsert(s, value)\n",
    "        s.push(popped)\n",
    "\n",
    "def Reverse(s):\n",
    "    if s.empty():\n",
    "        pass\n",
    "    else:\n",
    "        popped = s.pop()\n",
    "        Reverse(s)\n",
    "        BottomInsert(s, popped)\n",
    "\n",
    "stk = Stack()\n",
    "\n",
    "stk.push(1)\n",
    "stk.push(2)\n",
    "stk.push(3)\n",
    "stk.push(4)\n",
    "stk.push(5)\n",
    "\n",
    "print(\"Original Stack\")\n",
    "stk.show()\n",
    "\n",
    "print(\"\\nStack after Reversing\")\n",
    "Reverse(stk)\n",
    "stk.show()"
   ]
  },
  {
   "cell_type": "code",
   "execution_count": 27,
   "id": "9e618e6a",
   "metadata": {},
   "outputs": [
    {
     "name": "stdout",
     "output_type": "stream",
     "text": [
      "How many numbers: 5\n",
      "Enter number: 9\n",
      "Enter number: 5\n",
      "Enter number: 8\n",
      "Enter number: 12\n",
      "Enter number: 22\n",
      "Smallest number in the list is :   5\n"
     ]
    }
   ],
   "source": [
    "# Write a program to find the smallest number using a stack\n",
    "\n",
    "First = []\n",
    "num = int(input('How many numbers: '))\n",
    "\n",
    "for n in range(num):\n",
    "    numbers = int(input('Enter number: '))\n",
    "    First.append(numbers)\n",
    "    \n",
    "print(\"Smallest number in the list is :  \", min(First))"
   ]
  },
  {
   "cell_type": "code",
   "execution_count": null,
   "id": "f96a1007",
   "metadata": {},
   "outputs": [],
   "source": []
  }
 ],
 "metadata": {
  "kernelspec": {
   "display_name": "Python 3 (ipykernel)",
   "language": "python",
   "name": "python3"
  },
  "language_info": {
   "codemirror_mode": {
    "name": "ipython",
    "version": 3
   },
   "file_extension": ".py",
   "mimetype": "text/x-python",
   "name": "python",
   "nbconvert_exporter": "python",
   "pygments_lexer": "ipython3",
   "version": "3.10.9"
  }
 },
 "nbformat": 4,
 "nbformat_minor": 5
}
